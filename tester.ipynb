{
 "cells": [
  {
   "cell_type": "code",
   "execution_count": 16,
   "metadata": {},
   "outputs": [
    {
     "data": {
      "text/plain": [
       "[0.0, 1.0, 3.0, 6.0, 10.0, 15.0]"
      ]
     },
     "execution_count": 16,
     "metadata": {},
     "output_type": "execute_result"
    }
   ],
   "source": [
    "def triangular(list_num):\n",
    "    list_tri = []\n",
    "    for i in range(1,list_num+1):\n",
    "        new_num = i * (i + 1) / 2\n",
    "        list_tri.append(new_num)\n",
    "    return list_tri\n",
    "\n",
    "list_num = 5\n",
    "\n",
    "triangular(list_num)"
   ]
  },
  {
   "cell_type": "code",
   "execution_count": 14,
   "metadata": {},
   "outputs": [
    {
     "data": {
      "text/plain": [
       "[0, 1, 1, 2, 3, 5, 8, 13]"
      ]
     },
     "execution_count": 14,
     "metadata": {},
     "output_type": "execute_result"
    }
   ],
   "source": [
    "def fibonacci(list_num):\n",
    "    list_fibo = [0 , 1]\n",
    "    for i in range(2,list_num):\n",
    "        new_num = list_fibo[i-2] + list_fibo[i-1]\n",
    "        list_fibo.append(new_num)\n",
    "    return list_fibo\n",
    "\n",
    "fibonacci(8)"
   ]
  },
  {
   "cell_type": "code",
   "execution_count": 21,
   "metadata": {},
   "outputs": [
    {
     "data": {
      "text/plain": [
       "[1.0, 2.0, 4.0, 7.0, 11.0, 16.0, 22.0]"
      ]
     },
     "execution_count": 21,
     "metadata": {},
     "output_type": "execute_result"
    }
   ],
   "source": [
    "def lazy(list_num):\n",
    "    list_lazy = []\n",
    "    for i in range(0,list_num):\n",
    "        new_num = (i ** 2 + i + 2) / 2\n",
    "        list_lazy.append(new_num)\n",
    "    return list_lazy\n",
    "\n",
    "lazy(7)"
   ]
  },
  {
   "cell_type": "code",
   "execution_count": 20,
   "metadata": {},
   "outputs": [
    {
     "data": {
      "text/plain": [
       "[1.0, 4.0, 10.0, 20.0, 35.0, 56.0]"
      ]
     },
     "execution_count": 20,
     "metadata": {},
     "output_type": "execute_result"
    }
   ],
   "source": [
    "def tetrahedral(list_num):\n",
    "    list_tetra = []\n",
    "    for i in range(1,list_num+1):\n",
    "        new_num = ( i * (i+1) * (i + 2)) / 6\n",
    "        list_tetra.append(new_num)\n",
    "    return list_tetra\n",
    "tetrahedral(6)"
   ]
  }
 ],
 "metadata": {
  "kernelspec": {
   "display_name": "Python 3",
   "language": "python",
   "name": "python3"
  },
  "language_info": {
   "codemirror_mode": {
    "name": "ipython",
    "version": 3
   },
   "file_extension": ".py",
   "mimetype": "text/x-python",
   "name": "python",
   "nbconvert_exporter": "python",
   "pygments_lexer": "ipython3",
   "version": "3.11.1"
  }
 },
 "nbformat": 4,
 "nbformat_minor": 2
}
